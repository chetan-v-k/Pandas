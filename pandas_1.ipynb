{
 "cells": [
  {
   "cell_type": "markdown",
   "metadata": {},
   "source": [
    "Lets' Learn Pandas Library"
   ]
  },
  {
   "cell_type": "code",
   "execution_count": 1,
   "metadata": {},
   "outputs": [
    {
     "data": {
      "text/plain": [
       "'2.1.3'"
      ]
     },
     "execution_count": 1,
     "metadata": {},
     "output_type": "execute_result"
    }
   ],
   "source": [
    "import pandas as pd\n",
    "import numpy as np\n",
    "pd.__version__"
   ]
  },
  {
   "cell_type": "markdown",
   "metadata": {},
   "source": [
    "Creating Sereis"
   ]
  },
  {
   "cell_type": "code",
   "execution_count": 2,
   "metadata": {},
   "outputs": [
    {
     "name": "stdout",
     "output_type": "stream",
     "text": [
      "0    1\n",
      "1    2\n",
      "2    3\n",
      "3    4\n",
      "4    5\n",
      "dtype: int64\n",
      "0    1\n",
      "1    2\n",
      "2    3\n",
      "3    4\n",
      "4    5\n",
      "dtype: int32\n",
      "----------\n",
      "0    5\n",
      "dtype: int64\n",
      "----------\n",
      "0    1\n",
      "1    2\n",
      "2    3\n",
      "3    4\n",
      "4    5\n",
      "dtype: int64\n"
     ]
    }
   ],
   "source": [
    "#Pandas Series is a one-dimensional labeled array capable of holding data of any type(integer, string, float, python, objects, etc,.). \n",
    "#The axis labels are collectively called index. Labels need not be unique but must be a hashable type. The object supports both integer and label-based\n",
    "#indexing and provides a host of methods for performing operations on the index.\n",
    "\n",
    "\n",
    "#Series through list \n",
    "lst = [1,2,3,4,5]\n",
    "print(pd.Series(lst))\n",
    "\n",
    "#Series through numpy array\n",
    "arr = np.array([1,2,3,4,5])\n",
    "print(pd.Series(arr))\n",
    "\n",
    "print(\"----------\")\n",
    "print(pd.Series(5))\n",
    "print(\"----------\")\n",
    "print(pd.Series([1,2,3,4,5]))"
   ]
  },
  {
   "cell_type": "code",
   "execution_count": 15,
   "metadata": {},
   "outputs": [
    {
     "name": "stdout",
     "output_type": "stream",
     "text": [
      "3      chetan\n",
      "1    veeranna\n",
      "2      kammar\n",
      "dtype: object\n",
      "------OR------\n",
      "0    Chetan\n",
      "1         V\n",
      "2    Kammar\n",
      "3       CVK\n",
      "dtype: object\n"
     ]
    }
   ],
   "source": [
    "#We can explicitly giving the index to the elements of a Series\n",
    "print(pd.Series(data=['chetan','veeranna','kammar'], index=[3,1,2]))\n",
    "print(\"------OR------\")\n",
    "print(pd.Series(index=[0,1,2,3], data=['Chetan','V','Kammar','CVK']))"
   ]
  },
  {
   "cell_type": "code",
   "execution_count": 4,
   "metadata": {},
   "outputs": [
    {
     "data": {
      "text/plain": [
       "day1    2000\n",
       "day2    4000\n",
       "day3    8000\n",
       "dtype: int64"
      ]
     },
     "execution_count": 4,
     "metadata": {},
     "output_type": "execute_result"
    }
   ],
   "source": [
    "#Series through Dictionary values\n",
    "steps = {'day1': 2000, 'day2':4000, 'day3':8000}\n",
    "pd.Series(steps)\n",
    "\n",
    "#keys are index and values are values itself."
   ]
  },
  {
   "cell_type": "code",
   "execution_count": 5,
   "metadata": {},
   "outputs": [
    {
     "name": "stdout",
     "output_type": "stream",
     "text": [
      "0    5\n",
      "0    5\n",
      "0    5\n",
      "0    5\n",
      "0    5\n",
      "dtype: int64\n",
      "--------------------\n",
      "0    1\n",
      "0    1\n",
      "0    1\n",
      "1    2\n",
      "1    2\n",
      "1    2\n",
      "2    3\n",
      "2    3\n",
      "2    3\n",
      "3    4\n",
      "3    4\n",
      "3    4\n",
      "4    5\n",
      "4    5\n",
      "4    5\n",
      "dtype: int64\n",
      "--------------------\n",
      "   index  0\n",
      "0      0  5\n",
      "1      0  5\n",
      "2      0  5\n",
      "3      0  5\n",
      "4      0  5\n",
      "----------------\n",
      "0    5\n",
      "1    5\n",
      "2    3\n",
      "3    3\n",
      "4    3\n",
      "5    3\n",
      "dtype: int64\n"
     ]
    }
   ],
   "source": [
    "#repeat() function: It returns a new series where each element of the current Series is repeated consecutively a given\n",
    "#nummber of times. Here the index remains the same for the original element and also for repeated elements. \n",
    "\n",
    "print(pd.Series(5).repeat(5))    #the element 5 will repeat for 5 times.\n",
    "print(\"--------------------\")\n",
    "print(pd.Series(lst).repeat(3))  #the elements in the list will repeat for 3 times.\n",
    "print(\"--------------------\")\n",
    "#but we can change the index of the repeated elements of a Series using the reset_index() function.\n",
    "print(pd.Series(5).repeat(5).reset_index())   #here you will get the data in the form of dataframe bcz we have not used the drop=True\n",
    "print(\"----------------\")\n",
    "print(pd.Series([5,3]).repeat([2,4]).reset_index(drop=True))  #this does not gives dataframe"
   ]
  },
  {
   "cell_type": "code",
   "execution_count": 6,
   "metadata": {},
   "outputs": [
    {
     "name": "stdout",
     "output_type": "stream",
     "text": [
      "0    5\n",
      "1    5\n",
      "2    3\n",
      "3    3\n",
      "4    3\n",
      "5    3\n",
      "dtype: int64\n",
      "-------------\n",
      "5\n",
      "5\n",
      "3\n"
     ]
    },
    {
     "data": {
      "text/plain": [
       "5    3\n",
       "4    3\n",
       "3    3\n",
       "2    3\n",
       "1    5\n",
       "dtype: int64"
      ]
     },
     "execution_count": 6,
     "metadata": {},
     "output_type": "execute_result"
    }
   ],
   "source": [
    "#Accessing, Slicing the elements of the pandas Series\n",
    "#This is same as accessing the elements of the array using index\n",
    "s = pd.Series([5,3]).repeat([2,4]).reset_index(drop=True)\n",
    "print(s)\n",
    "print(\"-------------\")\n",
    "print(s[1])\n",
    "print(s[0])\n",
    "print(s[5])\n",
    "\n",
    "#Slicing\n",
    "s[:]\n",
    "s[1:4]\n",
    "s[1:-1]  #removes the 1st and the last element\n",
    "s[:-1]\n",
    "s[-1::-1]   #reversing the elements\n",
    "s[-1:0:-1]"
   ]
  },
  {
   "cell_type": "code",
   "execution_count": null,
   "metadata": {},
   "outputs": [
    {
     "name": "stdout",
     "output_type": "stream",
     "text": [
      "min     1\n",
      "max     9\n",
      "sum    45\n",
      "dtype: int64\n",
      "---------\n",
      "4\n",
      "9\n",
      "16\n",
      "25\n",
      "36\n",
      "49\n",
      "64\n",
      "81\n",
      "9\n"
     ]
    },
    {
     "name": "stderr",
     "output_type": "stream",
     "text": [
      "C:\\Users\\cheta\\AppData\\Local\\Temp\\ipykernel_27072\\633006766.py:3: FutureWarning: The provided callable <built-in function min> is currently using Series.min. In a future version of pandas, the provided callable will be used directly. To keep current behavior pass the string \"min\" instead.\n",
      "  print(sr.agg([min, max, sum]))\n",
      "C:\\Users\\cheta\\AppData\\Local\\Temp\\ipykernel_27072\\633006766.py:3: FutureWarning: The provided callable <built-in function max> is currently using Series.max. In a future version of pandas, the provided callable will be used directly. To keep current behavior pass the string \"max\" instead.\n",
      "  print(sr.agg([min, max, sum]))\n",
      "C:\\Users\\cheta\\AppData\\Local\\Temp\\ipykernel_27072\\633006766.py:3: FutureWarning: The provided callable <built-in function sum> is currently using Series.sum. In a future version of pandas, the provided callable will be used directly. To keep current behavior pass the string \"sum\" instead.\n",
      "  print(sr.agg([min, max, sum]))\n"
     ]
    }
   ],
   "source": [
    "#Aggregate the functions(like max, min,sum,...) on pandas Series\n",
    "sr = pd.Series([1,2,3,4,5,6,7,8,9])\n",
    "print(sr.agg([min, max, sum]))\n",
    "print(\"---------\")\n",
    "for i in sr:\n",
    "    try:\n",
    "        sq = sr[i]**2\n",
    "        print(sq)\n",
    "    except Exception as ex:\n",
    "        print(ex)"
   ]
  },
  {
   "cell_type": "code",
   "execution_count": 8,
   "metadata": {},
   "outputs": [
    {
     "data": {
      "text/plain": [
       "0    1\n",
       "1    2\n",
       "2    3\n",
       "3    4\n",
       "4    5\n",
       "5    6\n",
       "6    7\n",
       "dtype: int64"
      ]
     },
     "execution_count": 8,
     "metadata": {},
     "output_type": "execute_result"
    }
   ],
   "source": [
    "#Series Absolute Functions (negative into positive values)\n",
    "sr = pd.Series([1,2,-3,-4,-5,6,-7])\n",
    "sr.abs()"
   ]
  },
  {
   "cell_type": "code",
   "execution_count": null,
   "metadata": {},
   "outputs": [
    {
     "name": "stdout",
     "output_type": "stream",
     "text": [
      "0    1\n",
      "1    2\n",
      "2    3\n",
      "3    4\n",
      "4    5\n",
      "5   -1\n",
      "6   -2\n",
      "7   -3\n",
      "8   -4\n",
      "9   -5\n",
      "dtype: int64\n"
     ]
    }
   ],
   "source": [
    "#Appending the Series There are 2 ways to deal with appending\n",
    "sr1=pd.Series([1,2,3,4,5])\n",
    "sr2=pd.Series([-1,-2,-3,-4,-5])\n",
    "\n",
    "sr1,sr2\n",
    "#pandas 2.0+ version doesn't support append() Instead we can use concat()\n",
    "sr3 = pd.concat([sr1,sr2],  ignore_index=True)   #just like drop=true\n",
    "print(sr3)"
   ]
  },
  {
   "cell_type": "code",
   "execution_count": 10,
   "metadata": {},
   "outputs": [
    {
     "name": "stdout",
     "output_type": "stream",
     "text": [
      "<class 'numpy.int64'>\n",
      "0    1.0\n",
      "1    2.0\n",
      "2   -3.0\n",
      "3   -5.0\n",
      "4   -6.0\n",
      "5    7.0\n",
      "dtype: float64\n",
      "-3.0\n"
     ]
    }
   ],
   "source": [
    "#Astype function which is used for converting the data type of the elements of the series\n",
    "pd1 = pd.Series([1,2,-3,-5,-6,7])\n",
    "print(type(pd1[2]))\n",
    "print(pd1.astype('float'))   #converting int type into float\n",
    "print(pd1[2].astype('float'))  #converting particular element into float\n"
   ]
  },
  {
   "cell_type": "code",
   "execution_count": 16,
   "metadata": {},
   "outputs": [
    {
     "name": "stdout",
     "output_type": "stream",
     "text": [
      "0    False\n",
      "1    False\n",
      "2    False\n",
      "3    False\n",
      "4     True\n",
      "5     True\n",
      "6     True\n",
      "7    False\n",
      "8    False\n",
      "dtype: bool\n",
      "-----------\n",
      "0    False\n",
      "1     True\n",
      "2     True\n",
      "3     True\n",
      "4    False\n",
      "5    False\n",
      "6    False\n",
      "7    False\n",
      "8    False\n",
      "dtype: bool\n"
     ]
    }
   ],
   "source": [
    "#Between Functions\n",
    "#pandas between() method is used on series to check value lies between first and second argument.\n",
    "\n",
    "sr1=pd.Series([1,2,3,4,5,6,7,8,9])\n",
    "print(sr1.between(5,7))       #this says true for those values are lying in the range given in the between function.\n",
    "print(\"-----------\")\n",
    "sr2=pd.Series([10, 20, 30, 40 ,50, 60, 70, 80,90])\n",
    "print(sr2.between(20,40)) #here it says True for index holding the values of given range including the extreme end."
   ]
  },
  {
   "cell_type": "markdown",
   "metadata": {},
   "source": [
    "All strings functions can be used to extract or modify texts in a series.\n",
    "\n",
    "Upper and lower functions --Len function\n",
    "--Strip function\n",
    "--Split function\n",
    "--Contains function\n",
    "--Replace function\n",
    "--Count function\n",
    "--Startwith and Endswith function\n",
    "--Find function"
   ]
  },
  {
   "cell_type": "code",
   "execution_count": 12,
   "metadata": {},
   "outputs": [
    {
     "name": "stdout",
     "output_type": "stream",
     "text": [
      "0      chetan\n",
      "1    Veeranna\n",
      "2      Kammar\n",
      "3      Dr.ait\n",
      "4         cse\n",
      "5           A\n",
      "dtype: object\n",
      "-----------\n",
      "0      CHETAN\n",
      "1    VEERANNA\n",
      "2      KAMMAR\n",
      "3      DR.AIT\n",
      "4         CSE\n",
      "5           A\n",
      "dtype: object\n",
      "-----------\n",
      "0      chetan\n",
      "1    veeranna\n",
      "2      kammar\n",
      "3      dr.ait\n",
      "4         cse\n",
      "5           a\n",
      "dtype: object\n",
      "-----------\n",
      "chetan 6\n",
      "Veeranna 8\n",
      "Kammar 6\n",
      "Dr.ait 6\n",
      "cse 3\n",
      "A 1\n",
      "-----------\n",
      "0      chetan\n",
      "1    Veeranna\n",
      "2      Kammar\n",
      "3      Dr.ait\n",
      "4         cse\n",
      "5           A\n",
      "dtype: object\n",
      "chetan 6\n",
      "Veeranna 8\n",
      "Kammar 6\n",
      "Dr.ait 6\n",
      "cse 3\n",
      "A 1\n",
      "-----------\n",
      "0      [chetan]\n",
      "1    [Veeranna]\n",
      "2      [Kammar]\n",
      "dtype: object\n",
      "-----------\n",
      "0     True\n",
      "1     True\n",
      "2    False\n",
      "3    False\n",
      "4     True\n",
      "5    False\n",
      "dtype: bool\n",
      "-----------\n",
      "0    Chetu\n",
      "dtype: object\n",
      "-----------\n",
      "0    False\n",
      "dtype: bool\n",
      "0    True\n",
      "dtype: bool\n",
      "0    True\n",
      "dtype: bool\n",
      "0    False\n",
      "dtype: bool\n",
      "-----------\n",
      "0   -1\n",
      "1   -1\n",
      "2   -1\n",
      "3   -1\n",
      "4    0\n",
      "5   -1\n",
      "dtype: int64\n"
     ]
    }
   ],
   "source": [
    "series = pd.Series(['chetan','Veeranna','Kammar','Dr.ait','cse','A'])\n",
    "print(series)\n",
    "\n",
    "print(\"-----------\")\n",
    "\n",
    "print(series.str.upper())\n",
    "\n",
    "print(\"-----------\")\n",
    "\n",
    "print(series.str.lower())\n",
    "\n",
    "print(\"-----------\")\n",
    "\n",
    "for i in series:\n",
    "    print(i, len(i))\n",
    "    \n",
    "print(\"-----------\")\n",
    "\n",
    "print(series.str.strip())\n",
    "for i in series:\n",
    "    print(i, len(i))\n",
    "\n",
    "print(\"-----------\")\n",
    "\n",
    "print(series.str.split()[0:3])  #[start:end:step]\n",
    "\n",
    "print(\"-----------\")\n",
    "\n",
    "print(series.str.contains('e'))   #if 'e' letter present in the given series it returns true.\n",
    "\n",
    "print(\"-----------\")\n",
    "\n",
    "example = pd.Series('Chatu')\n",
    "print(example.str.replace('a','e'))\n",
    "\n",
    "print(\"-----------\")\n",
    "\n",
    "print(example.str.startswith('c'))\n",
    "print(example.str.startswith('C'))\n",
    "print(example.str.endswith('u'))\n",
    "print(example.str.endswith('m'))\n",
    "\n",
    "print(\"-----------\")\n",
    "\n",
    "print(series.str.find('cse'))\n"
   ]
  },
  {
   "cell_type": "markdown",
   "metadata": {},
   "source": [
    "Converting the Series into List."
   ]
  },
  {
   "cell_type": "code",
   "execution_count": 13,
   "metadata": {},
   "outputs": [
    {
     "name": "stdout",
     "output_type": "stream",
     "text": [
      "['chetan', 'Veeranna', 'Kammar', 'Dr.ait', 'cse', 'A']\n"
     ]
    }
   ],
   "source": [
    "#Pandas has tolist() for converting the series to lsit. Initially the series is of type pandas.core.series.\n",
    "\n",
    "print(series.to_list())"
   ]
  },
  {
   "cell_type": "code",
   "execution_count": null,
   "metadata": {},
   "outputs": [],
   "source": []
  }
 ],
 "metadata": {
  "kernelspec": {
   "display_name": "Python 3",
   "language": "python",
   "name": "python3"
  },
  "language_info": {
   "codemirror_mode": {
    "name": "ipython",
    "version": 3
   },
   "file_extension": ".py",
   "mimetype": "text/x-python",
   "name": "python",
   "nbconvert_exporter": "python",
   "pygments_lexer": "ipython3",
   "version": "3.12.0"
  }
 },
 "nbformat": 4,
 "nbformat_minor": 2
}
